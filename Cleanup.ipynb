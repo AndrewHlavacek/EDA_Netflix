{
 "cells": [
  {
   "cell_type": "code",
   "execution_count": 6,
   "metadata": {},
   "outputs": [
    {
     "name": "stdout",
     "output_type": "stream",
     "text": [
      "     show_id     type                      title   director        country  \\\n",
      "6619    s272  TV Show    Brand New Cherry Flavor  Not Given  United States   \n",
      "6620    s235  TV Show                  Oggy Oggy  Not Given       Pakistan   \n",
      "6621    s273  TV Show  Fast & Furious Spy Racers  Not Given  United States   \n",
      "\n",
      "     date_added  release_year rating   duration  \\\n",
      "6619  8/13/2021          2021  TV-MA   1 Season   \n",
      "6620  8/24/2021          2021   TV-Y   1 Season   \n",
      "6621  8/13/2021          2021  TV-Y7  5 Seasons   \n",
      "\n",
      "                               listed_in  \n",
      "6619  TV Dramas, TV Horror, TV Mysteries  \n",
      "6620               Kids' TV, TV Comedies  \n",
      "6621                            Kids' TV  \n"
     ]
    }
   ],
   "source": [
    "# This is where we will do the initial data cleaning for the dataset.\n",
    "\n",
    "import pandas as pd\n",
    "\n",
    "# Read the CSV file into a DataFrame\n",
    "filepath = '/Users/andrewhlavacek/Documents/EDA_Netflix/netflix1.csv'\n",
    "\n",
    "df = pd.read_csv(filepath)\n",
    "\n",
    "# Display the first few rows of the Dataframe to show that it loaded correctly\n",
    "#print(df.head(10))\n",
    "\n",
    "\n",
    "# First we check for any missing values in the DataFrame\n",
    "#print(df.isnull().sum())\n",
    "\n",
    "# As we can see there are no null values to worry about, so we can continue with the cleaning\n",
    "# Next we will check the data types of each column\n",
    "print(df.dtypes)\n",
    "\n",
    "\n",
    "\n"
   ]
  }
 ],
 "metadata": {
  "kernelspec": {
   "display_name": "Python 3",
   "language": "python",
   "name": "python3"
  },
  "language_info": {
   "codemirror_mode": {
    "name": "ipython",
    "version": 3
   },
   "file_extension": ".py",
   "mimetype": "text/x-python",
   "name": "python",
   "nbconvert_exporter": "python",
   "pygments_lexer": "ipython3",
   "version": "3.12.0"
  }
 },
 "nbformat": 4,
 "nbformat_minor": 2
}
