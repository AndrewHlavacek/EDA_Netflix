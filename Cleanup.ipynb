{
 "cells": [
  {
   "cell_type": "markdown",
   "metadata": {},
   "source": [
    "# This is where we will do the initial data cleaning for the dataset."
   ]
  },
  {
   "cell_type": "code",
   "execution_count": 1,
   "metadata": {},
   "outputs": [
    {
     "name": "stdout",
     "output_type": "stream",
     "text": [
      "  show_id     type                             title             director  \\\n",
      "0      s1    Movie              Dick Johnson Is Dead      Kirsten Johnson   \n",
      "1      s3  TV Show                         Ganglands      Julien Leclercq   \n",
      "2      s6  TV Show                     Midnight Mass        Mike Flanagan   \n",
      "3     s14    Movie  Confessions of an Invisible Girl        Bruno Garotti   \n",
      "4      s8    Movie                           Sankofa         Haile Gerima   \n",
      "5      s9  TV Show     The Great British Baking Show      Andy Devonshire   \n",
      "6     s10    Movie                      The Starling       Theodore Melfi   \n",
      "7    s939    Movie   Motu Patlu in the Game of Zones          Suhas Kadav   \n",
      "8     s13    Movie                      Je Suis Karl  Christian Schwochow   \n",
      "9    s940    Movie          Motu Patlu in Wonderland          Suhas Kadav   \n",
      "\n",
      "          country date_added  release_year rating   duration  \\\n",
      "0   United States  9/25/2021          2020  PG-13     90 min   \n",
      "1          France  9/24/2021          2021  TV-MA   1 Season   \n",
      "2   United States  9/24/2021          2021  TV-MA   1 Season   \n",
      "3          Brazil  9/22/2021          2021  TV-PG     91 min   \n",
      "4   United States  9/24/2021          1993  TV-MA    125 min   \n",
      "5  United Kingdom  9/24/2021          2021  TV-14  9 Seasons   \n",
      "6   United States  9/24/2021          2021  PG-13    104 min   \n",
      "7           India   5/1/2021          2019  TV-Y7     87 min   \n",
      "8         Germany  9/23/2021          2021  TV-MA    127 min   \n",
      "9           India   5/1/2021          2013  TV-Y7     76 min   \n",
      "\n",
      "                                           listed_in  \n",
      "0                                      Documentaries  \n",
      "1  Crime TV Shows, International TV Shows, TV Act...  \n",
      "2                 TV Dramas, TV Horror, TV Mysteries  \n",
      "3                 Children & Family Movies, Comedies  \n",
      "4   Dramas, Independent Movies, International Movies  \n",
      "5                       British TV Shows, Reality TV  \n",
      "6                                   Comedies, Dramas  \n",
      "7  Children & Family Movies, Comedies, Music & Mu...  \n",
      "8                       Dramas, International Movies  \n",
      "9         Children & Family Movies, Music & Musicals  \n",
      "show_id         0\n",
      "type            0\n",
      "title           0\n",
      "director        0\n",
      "country         0\n",
      "date_added      0\n",
      "release_year    0\n",
      "rating          0\n",
      "duration        0\n",
      "listed_in       0\n",
      "dtype: int64\n"
     ]
    }
   ],
   "source": [
    "import pandas as pd\n",
    "\n",
    "# Read the CSV file into a DataFrame\n",
    "filepath = '/Users/andrewhlavacek/Documents/EDA_Netflix/netflix1.csv'\n",
    "\n",
    "df = pd.read_csv(filepath)\n",
    "\n",
    "# Display the first few rows of the Dataframe to show that it loaded correctly\n",
    "print(df.head(10))\n",
    "\n",
    "# First we check for any missing values in the DataFrame\n",
    "print(df.isnull().sum())\n",
    "\n",
    "\n",
    "\n"
   ]
  },
  {
   "cell_type": "code",
   "execution_count": null,
   "metadata": {},
   "outputs": [],
   "source": []
  }
 ],
 "metadata": {
  "kernelspec": {
   "display_name": "Python 3",
   "language": "python",
   "name": "python3"
  },
  "language_info": {
   "codemirror_mode": {
    "name": "ipython",
    "version": 3
   },
   "file_extension": ".py",
   "mimetype": "text/x-python",
   "name": "python",
   "nbconvert_exporter": "python",
   "pygments_lexer": "ipython3",
   "version": "3.12.0"
  }
 },
 "nbformat": 4,
 "nbformat_minor": 2
}
