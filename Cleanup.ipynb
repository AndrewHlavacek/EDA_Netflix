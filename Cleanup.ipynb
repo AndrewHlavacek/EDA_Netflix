{
 "cells": [
  {
   "cell_type": "markdown",
   "metadata": {},
   "source": [
    "# This is where we will do the initial DATA CLEANING for the dataset.\n",
    "\n",
    "# I already opened the file in an excel spreadsheet to first explore the data to get a since of the layout and what I would need to clean."
   ]
  },
  {
   "cell_type": "code",
   "execution_count": 9,
   "metadata": {},
   "outputs": [
    {
     "name": "stdout",
     "output_type": "stream",
     "text": [
      "  show_id   type                 title         director        country  \\\n",
      "0      s1  Movie  Dick Johnson Is Dead  Kirsten Johnson  United States   \n",
      "\n",
      "  date_added  release_year rating duration      listed_in  \n",
      "0  9/25/2021          2020  PG-13   90 min  Documentaries  \n",
      "show_id         0\n",
      "type            0\n",
      "title           0\n",
      "director        0\n",
      "country         0\n",
      "date_added      0\n",
      "release_year    0\n",
      "rating          0\n",
      "duration        0\n",
      "listed_in       0\n",
      "dtype: int64\n",
      "0\n",
      "show_id         object\n",
      "type            object\n",
      "title           object\n",
      "director        object\n",
      "country         object\n",
      "date_added      object\n",
      "release_year     int64\n",
      "rating          object\n",
      "duration        object\n",
      "listed_in       object\n",
      "dtype: object\n",
      "Index(['show_id', 'type', 'title', 'director', 'country', 'date_added',\n",
      "       'release_year', 'rating', 'duration', 'listed_in'],\n",
      "      dtype='object')\n",
      "<class 'pandas.core.frame.DataFrame'>\n",
      "RangeIndex: 8790 entries, 0 to 8789\n",
      "Data columns (total 10 columns):\n",
      " #   Column        Non-Null Count  Dtype \n",
      "---  ------        --------------  ----- \n",
      " 0   show_id       8790 non-null   object\n",
      " 1   type          8790 non-null   object\n",
      " 2   title         8790 non-null   object\n",
      " 3   director      8790 non-null   object\n",
      " 4   country       8790 non-null   object\n",
      " 5   date_added    8790 non-null   object\n",
      " 6   release_year  8790 non-null   int64 \n",
      " 7   rating        8790 non-null   object\n",
      " 8   duration      8790 non-null   object\n",
      " 9   listed_in     8790 non-null   object\n",
      "dtypes: int64(1), object(9)\n",
      "memory usage: 686.8+ KB\n",
      "None\n"
     ]
    }
   ],
   "source": [
    "import pandas as pd\n",
    "\n",
    "# Read the CSV file into a DataFrame\n",
    "filepath = '/Users/andrewhlavacek/Documents/EDA_Netflix/netflix1.csv'\n",
    "\n",
    "df = pd.read_csv(filepath)\n",
    "\n",
    "\n",
    "# We need to check for the following before we can explore our data:\n",
    "# 1. Missing Values\n",
    "# 2. Duplicate Rows\n",
    "# 3. Data Types\n",
    "# 4. Column Names\n",
    "# 5. Data Integrity\n",
    "\n",
    "\n",
    "# Step 0: Display the first few rows of the Dataframe to show that it loaded correctly\n",
    "print(df.head(1))\n",
    "\n",
    "# Step 1: First we check for any missing values in the DataFrame --> (Nan/Null Values == 0)\n",
    "print(df.isnull().sum())\n",
    "\n",
    "# Step 2:Next we check for any duplicate rows in the DataFrame --> (Duplicate Rows == 0)\n",
    "print(df.duplicated().sum())\n",
    "\n",
    "# Step 3: Next we check for any data types in the DataFrame --> (All are objects)\n",
    "print(df.dtypes)\n",
    "\n",
    "# Step 4: Next we check for any column names in the DataFrame --> (All are correct)\n",
    "print(df.columns)\n",
    "\n",
    "# Step 5: Next we check for any data integrity in the DataFrame --> (All is good)\n",
    "print(df.info())\n",
    "\n",
    "\n",
    "# Now we are ready to explore the data / feature engineer\n"
   ]
  },
  {
   "cell_type": "markdown",
   "metadata": {},
   "source": [
    "# Now we want to do some EDA and plotting on the data.\n",
    "#\n",
    "# We will see the results of this later in Tableau to see that they match"
   ]
  },
  {
   "cell_type": "code",
   "execution_count": 8,
   "metadata": {},
   "outputs": [
    {
     "name": "stdout",
     "output_type": "stream",
     "text": [
      "Empty DataFrame\n",
      "Columns: [show_id, type, title, director, country, date_added, release_year, rating, duration, listed_in]\n",
      "Index: []\n"
     ]
    }
   ],
   "source": [
    "import pandas as pd\n",
    "import matplotlib.pyplot as plt\n",
    "import seaborn as sns\n",
    "\n",
    "# Read the CSV file into a DataFrame\n",
    "filepath = '/Users/andrewhlavacek/Documents/EDA_Netflix/netflix1.csv'\n",
    "\n",
    "df = pd.read_csv(filepath)\n",
    "\n",
    "# We now want to figure out the following things about the data:\n",
    "#\n",
    "#\n",
    "#\n",
    "#\n",
    "#\n",
    "#\n",
    "\n",
    "\n",
    "\n",
    "# Now we want to see the distribution of the data by country\n",
    "#print(df['country'].value_counts())\n",
    "\n",
    "# Now we want to see the distribution of the data by genre\n",
    "#print(df['type'].value_counts())\n",
    "\n",
    "# Now we want to see the distribution of the data by rating\n",
    "#print(df['rating'].value_counts())\n",
    "\n",
    "# Now we want to see the distribution of the data by release year\n",
    "#print(df['release_year'].value_counts())\n",
    "\n",
    "\n",
    "# find out which row has the unknown location so we can fix that\n",
    "print(df[df['country'] == 'Unknown'])\n"
   ]
  }
 ],
 "metadata": {
  "kernelspec": {
   "display_name": "Python 3",
   "language": "python",
   "name": "python3"
  },
  "language_info": {
   "codemirror_mode": {
    "name": "ipython",
    "version": 3
   },
   "file_extension": ".py",
   "mimetype": "text/x-python",
   "name": "python",
   "nbconvert_exporter": "python",
   "pygments_lexer": "ipython3",
   "version": "3.12.0"
  }
 },
 "nbformat": 4,
 "nbformat_minor": 2
}
